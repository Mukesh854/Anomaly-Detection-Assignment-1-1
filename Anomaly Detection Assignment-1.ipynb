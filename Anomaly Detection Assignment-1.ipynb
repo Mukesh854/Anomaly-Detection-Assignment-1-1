{
 "cells": [
  {
   "cell_type": "markdown",
   "id": "aaf81449-1001-49fd-8649-7f049f9fd4c8",
   "metadata": {},
   "source": [
    "# Anomaly Detection Assignment-1"
   ]
  },
  {
   "cell_type": "markdown",
   "id": "426feaf7-fde8-4866-8a1d-017eb20ac927",
   "metadata": {},
   "source": [
    "Q1. What is anomaly detection and what is its purpose?"
   ]
  },
  {
   "cell_type": "markdown",
   "id": "60b69531-0f39-4ac8-ab4b-99c71c9e3d2b",
   "metadata": {},
   "source": [
    "\n",
    "Anomaly detection is about spotting unusual patterns or outliers in data to find errors, fraud, or significant changes, helping to maintain data integrity and mitigate risks."
   ]
  },
  {
   "cell_type": "markdown",
   "id": "c92c0c9f-dc1d-4426-a962-39106ce86f54",
   "metadata": {},
   "source": [
    "Q2. What are the key challenges in anomaly detection?"
   ]
  },
  {
   "cell_type": "markdown",
   "id": "a3f38e6e-cf53-48e7-baf4-002a7e48108c",
   "metadata": {},
   "source": [
    "Key challenges in anomaly detection are:-\n",
    "\n",
    "Lack of labeled data , Imbalanced datasets , Feature selection , Scalability , Adaptability"
   ]
  },
  {
   "cell_type": "markdown",
   "id": "8ee1202c-cc4a-4756-9fca-7e2902328d48",
   "metadata": {},
   "source": [
    "Q3. How does unsupervised anomaly detection differ from supervised anomaly detection?"
   ]
  },
  {
   "cell_type": "markdown",
   "id": "5420776f-edbb-4714-88a3-1d01d490507c",
   "metadata": {},
   "source": [
    "\n",
    "Unsupervised anomaly detection doesn't require labeled data and finds anomalies based on deviation from normal data patterns. Supervised anomaly detection relies on labeled data to train models to distinguish between normal and anomalous instances.\n",
    "\n",
    "\n",
    "\n",
    "\n"
   ]
  },
  {
   "cell_type": "markdown",
   "id": "6943d457-3409-479e-a53a-a4c22b3e96bf",
   "metadata": {},
   "source": [
    "Q4. What are the main categories of anomaly detection algorithms?"
   ]
  },
  {
   "cell_type": "markdown",
   "id": "8a9b7ff0-b82f-40d9-897b-97126580102d",
   "metadata": {},
   "source": [
    "\n",
    "The main categories of anomaly detection algorithms are statistical methods, machine learning-based methods (including supervised, unsupervised, and semi-supervised learning), proximity-based methods, information theory-based methods, and deep learning-based methods."
   ]
  },
  {
   "cell_type": "markdown",
   "id": "640ba170-b843-4cf0-b34b-ac5b089c2923",
   "metadata": {},
   "source": [
    "Q5. What are the main assumptions made by distance-based anomaly detection methods?"
   ]
  },
  {
   "cell_type": "markdown",
   "id": "d40fa7b1-c121-42b9-95fb-077ce04974d8",
   "metadata": {},
   "source": [
    "Distance-based anomaly detection methods assume that normal data points are distributed according to a well-defined normal distribution, anomalies are identified based on their distance from normal instances using Euclidean distance, anomalies exist in sparse regions of the feature space, normal instances have uniform density across the feature space, and features are independent or adequately captured by the distance metric used."
   ]
  },
  {
   "cell_type": "markdown",
   "id": "de18c08b-cc60-477a-9055-333f03b246f2",
   "metadata": {},
   "source": [
    "Q6. How does the LOF algorithm compute anomaly scores?"
   ]
  },
  {
   "cell_type": "markdown",
   "id": "00c2a752-9096-4e7b-8f3e-e581a7a3fb06",
   "metadata": {},
   "source": [
    "\n",
    "The LOF algorithm computes anomaly scores by comparing the local density of a data point to the local densities of its neighbors. Points with significantly higher local outlier factor (LOF) scores compared to their neighbors are considered anomalies."
   ]
  },
  {
   "cell_type": "markdown",
   "id": "10c83cc9-4db7-479e-8f1e-75fe409fc7e4",
   "metadata": {},
   "source": [
    "Q7. What are the key parameters of the Isolation Forest algorithm?"
   ]
  },
  {
   "cell_type": "markdown",
   "id": "071d8af6-860c-4acc-bbe9-c236fc19d7af",
   "metadata": {},
   "source": [
    "The key parameters of the isolation forest algorithm are :-\n",
    "\n",
    "1) Number of Trees (n_estimators)\n",
    "\n",
    "2) Subsample Size (max_samples)"
   ]
  },
  {
   "cell_type": "markdown",
   "id": "ad424d21-6eb8-43fb-97eb-7fb5a7f96862",
   "metadata": {},
   "source": [
    "Q8. If a data point has only 2 neighbours of the same class within a radius of 0.5, what is its anomaly score\n",
    "using KNN with K=10?"
   ]
  },
  {
   "cell_type": "markdown",
   "id": "eeb6f790-9675-4dd7-9ecc-0679d9b6a53c",
   "metadata": {},
   "source": [
    "Given only 2 neighbors within a radius of 0.5 and using KNN with \n",
    "K=10, the anomaly score would likely be high. This is because the algorithm would try to find 10 nearest neighbors but can only find 2 within the specified radius, indicating that the data point is in a sparse region of the feature space. This scarcity of neighbors suggests that the data point is likely an outlier, resulting in a high anomaly "
   ]
  },
  {
   "cell_type": "markdown",
   "id": "c92c949b-90f0-4f2f-8782-bad5eb166bb7",
   "metadata": {},
   "source": [
    "Q9. Using the Isolation Forest algorithm with 100 trees and a dataset of 3000 data points, what is the\n",
    "anomaly score for a data point that has an average path length of 5.0 compared to the average path\n",
    "length of the trees?"
   ]
  },
  {
   "cell_type": "markdown",
   "id": "68d08824-8cf7-4b34-a97f-f6ddae0571a2",
   "metadata": {},
   "source": [
    "\n",
    "If the average path length of a data point in an Isolation Forest with 100 trees is 5.0 compared to the average path length of the trees, its anomaly score depends on the overall average path length of the dataset. If the dataset's average path length is higher than 5.0, the anomaly score for this data point would be relatively low, indicating it's less likely an anomaly. Conversely, if the dataset's average path length is lower than 5.0, the anomaly score for this data point would be relatively high, suggesting it's more likely an anomaly."
   ]
  },
  {
   "cell_type": "code",
   "execution_count": null,
   "id": "61e8f069-e26a-44f6-b6c4-7bef8925fc2f",
   "metadata": {},
   "outputs": [],
   "source": []
  }
 ],
 "metadata": {
  "kernelspec": {
   "display_name": "Python 3 (ipykernel)",
   "language": "python",
   "name": "python3"
  },
  "language_info": {
   "codemirror_mode": {
    "name": "ipython",
    "version": 3
   },
   "file_extension": ".py",
   "mimetype": "text/x-python",
   "name": "python",
   "nbconvert_exporter": "python",
   "pygments_lexer": "ipython3",
   "version": "3.10.8"
  }
 },
 "nbformat": 4,
 "nbformat_minor": 5
}
